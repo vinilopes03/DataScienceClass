{
 "cells": [
  {
   "cell_type": "markdown",
   "metadata": {},
   "source": [
    "# 1 Incremental sample mean and variance"
   ]
  },
  {
   "cell_type": "code",
   "execution_count": 7,
   "metadata": {},
   "outputs": [],
   "source": [
    "def f(mu, n, new_x): # Please complete this function\n",
    "    \n",
    "    result = ((mu*n) + new_x )/ (n+1)\n",
    "\n",
    "    return result\n",
    "    "
   ]
  },
  {
   "cell_type": "markdown",
   "metadata": {},
   "source": [
    "Function $f$ is not allowed to be used or duplicated in $g$, and $\\mu'$ is not allowed to be used in $g$. Actually, it will make your $g$ function look simpler if avoid using $f$ or $\\mu'$."
   ]
  },
  {
   "cell_type": "code",
   "execution_count": 10,
   "metadata": {},
   "outputs": [],
   "source": [
    "from hashlib import new\n",
    "\n",
    "\n",
    "def g(v, mu, n, new_x): # Please complete this function\n",
    "\n",
    "    #here we have (n-1) because in  my solution I worked with the new sample size (which would be n-2), since this solution only provide the old sample size, then (n-1)\n",
    "    new_mu = ((mu*n) + new_x) / (n+1)\n",
    "\n",
    "    #here we divide by n instead of n-1 because we are working with old sample size.\n",
    "    result = (((n-1) * v) + ((new_x - new_mu)*(new_x - mu)))/(n)\n",
    "\n",
    "    return result"
   ]
  },
  {
   "cell_type": "code",
   "execution_count": 12,
   "metadata": {},
   "outputs": [
    {
     "name": "stdout",
     "output_type": "stream",
     "text": [
      "new_mu 11.0\n",
      "new_v 26.0\n"
     ]
    }
   ],
   "source": [
    "N = 1000000 # population size\n",
    "n = 9 # sample size (old)\n",
    "mu = 10 # old mean value\n",
    "v = 18 # old variance\n",
    "new_x = 20 # a new sample\n",
    "\n",
    "new_mu = f(mu, n, new_x) # new mean value\n",
    "new_v = g(v, mu, n, new_x) # new variance\n",
    "\n",
    "print(\"new_mu\", new_mu)\n",
    "print(\"new_v\", new_v)"
   ]
  },
  {
   "cell_type": "markdown",
   "metadata": {},
   "source": [
    "# 2 Correlation analysis"
   ]
  },
  {
   "cell_type": "code",
   "execution_count": 3,
   "metadata": {},
   "outputs": [],
   "source": [
    "import pandas as pd\n",
    "df = pd.read_csv(\"datasets/dataset-salary/data-faculty.csv\")\n",
    "\n",
    "column1 = \"Count\"\n",
    "column2 = \"Faculty\""
   ]
  },
  {
   "cell_type": "markdown",
   "metadata": {},
   "source": [
    "### 2.1 Describe the mean value, median, Q1, Q3, and variance of the feature “Count” (i.e., score of CS ranking)."
   ]
  },
  {
   "cell_type": "code",
   "execution_count": 4,
   "metadata": {},
   "outputs": [
    {
     "name": "stdout",
     "output_type": "stream",
     "text": [
      "count    103.000000\n",
      "mean       3.619417\n",
      "std        2.927626\n",
      "min        1.400000\n",
      "25%        1.600000\n",
      "50%        2.700000\n",
      "75%        4.100000\n",
      "max       17.300000\n",
      "Name: Count, dtype: float64\n",
      "Variance of column Count:  8.570991814201408\n",
      "Median of column Count:  2.7\n"
     ]
    }
   ],
   "source": [
    "print(df[column1].describe())\n",
    "print(\"Variance of column Count: \", df[column1].var())\n",
    "print(\"Median of column Count: \", df[column1].median())"
   ]
  },
  {
   "cell_type": "markdown",
   "metadata": {},
   "source": [
    "### 2.2 Normalize the feature “Count” by MIN-MAX and print the normalized feature values."
   ]
  },
  {
   "cell_type": "code",
   "execution_count": 5,
   "metadata": {},
   "outputs": [
    {
     "name": "stdout",
     "output_type": "stream",
     "text": [
      "Normalized MIN-MAX: \n",
      "0      1.000000\n",
      "1      0.723270\n",
      "2      0.660377\n",
      "3      0.616352\n",
      "4      0.578616\n",
      "         ...   \n",
      "98     0.000000\n",
      "99     0.000000\n",
      "100    0.000000\n",
      "101    0.000000\n",
      "102    0.000000\n",
      "Name: Count, Length: 103, dtype: float64\n"
     ]
    }
   ],
   "source": [
    "normalized_minmax=(df[column1]-df[column1].min())/(df[column1].max()-df[column1].min())\n",
    "\n",
    "print(\"Normalized MIN-MAX: \")\n",
    "\n",
    "print(normalized_minmax)"
   ]
  },
  {
   "cell_type": "markdown",
   "metadata": {},
   "source": [
    "### 2.3 Normalize the feature “Count” by Z SCORE and print the normalized feature values."
   ]
  },
  {
   "cell_type": "code",
   "execution_count": 7,
   "metadata": {},
   "outputs": [
    {
     "name": "stdout",
     "output_type": "stream",
     "text": [
      "Normalized Z-SCORE: \n",
      "0      1.596149\n",
      "1      1.082790\n",
      "2      0.966117\n",
      "3      0.884446\n",
      "4      0.814443\n",
      "         ...   \n",
      "98    -0.258945\n",
      "99    -0.258945\n",
      "100   -0.258945\n",
      "101   -0.258945\n",
      "102   -0.258945\n",
      "Name: Count, Length: 103, dtype: float64\n"
     ]
    }
   ],
   "source": [
    "normalized_zscore = (df[column1] - df[column1].mean())/(df[column1].var())\n",
    "\n",
    "print(\"Normalized Z-SCORE: \")\n",
    "\n",
    "print(normalized_zscore)"
   ]
  },
  {
   "cell_type": "markdown",
   "metadata": {},
   "source": [
    "### 2.4  Calculate the correlation coefficient ρ between the original (not the normalized) “Count” and “Faculty”."
   ]
  },
  {
   "cell_type": "code",
   "execution_count": 6,
   "metadata": {},
   "outputs": [
    {
     "name": "stdout",
     "output_type": "stream",
     "text": [
      "           Count  Faculty\n",
      "Count    1.00000  0.93847\n",
      "Faculty  0.93847  1.00000\n"
     ]
    }
   ],
   "source": [
    "correlation = df[[column1, column2]].corr()\n",
    "\n",
    "print(correlation)"
   ]
  },
  {
   "cell_type": "markdown",
   "metadata": {},
   "source": [
    "# 3 Data integration and cleaning (CSE 60647 only)"
   ]
  },
  {
   "cell_type": "code",
   "execution_count": null,
   "metadata": {},
   "outputs": [],
   "source": []
  }
 ],
 "metadata": {
  "kernelspec": {
   "display_name": "Python 3.10.5 64-bit",
   "language": "python",
   "name": "python3"
  },
  "language_info": {
   "codemirror_mode": {
    "name": "ipython",
    "version": 3
   },
   "file_extension": ".py",
   "mimetype": "text/x-python",
   "name": "python",
   "nbconvert_exporter": "python",
   "pygments_lexer": "ipython3",
   "version": "3.10.5"
  },
  "vscode": {
   "interpreter": {
    "hash": "f2c372e89d7a2a116d8a0a9081fd3550958e75836fcf570714f29caee5840d0c"
   }
  }
 },
 "nbformat": 4,
 "nbformat_minor": 4
}
